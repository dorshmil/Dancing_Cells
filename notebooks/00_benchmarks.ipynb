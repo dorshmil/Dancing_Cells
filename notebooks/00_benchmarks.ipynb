{
 "cells": [
  {
   "cell_type": "code",
   "execution_count": 5,
   "metadata": {},
   "outputs": [],
   "source": [
    "import os\n",
    "\n",
    "BENCHMARK = '../benchmarks/xcc-benchmarks'\n",
    "benchmark_files = os.listdir(BENCHMARK)\n",
    "\n",
    "def load_benchmark(file_name):\n",
    "    '''\n",
    "    load benchmarks file in the format:\n",
    "    [primery_items, secondery_items(if there is any)], options\n",
    "    '''\n",
    "    with open(f'{BENCHMARK}/{file_name}', 'r') as file:\n",
    "        lines = file.readlines()\n",
    "        # remove commented lines (lines that start with '|')\n",
    "        for i,line in enumerate(lines):\n",
    "            if not line.startswith('|'):\n",
    "                break\n",
    "        lines = lines[i:]\n",
    "        # the first line includes the items and all following rows are the options\n",
    "        items_str = lines.pop(0).strip()\n",
    "        # '|' seperates primery and secondery items\n",
    "        items = [s.split() for s in items_str.split('|')]\n",
    "        # create the options by splitting the spaces\n",
    "        options = list(map(lambda s: s.strip().split() ,lines))\n",
    "    return items, options"
   ]
  },
  {
   "cell_type": "code",
   "execution_count": 6,
   "metadata": {},
   "outputs": [],
   "source": [
    "# i, o = load_benchmark('../benchmarks/xcc-benchmarks/Kqueen7-8.dlx')\n",
    "i, o = load_benchmark(benchmark_files[0])"
   ]
  }
 ],
 "metadata": {
  "kernelspec": {
   "display_name": "Python 3",
   "language": "python",
   "name": "python3"
  },
  "language_info": {
   "codemirror_mode": {
    "name": "ipython",
    "version": 3
   },
   "file_extension": ".py",
   "mimetype": "text/x-python",
   "name": "python",
   "nbconvert_exporter": "python",
   "pygments_lexer": "ipython3",
   "version": "3.8.10"
  }
 },
 "nbformat": 4,
 "nbformat_minor": 2
}
